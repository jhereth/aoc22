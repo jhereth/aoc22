{
 "cells": [
  {
   "cell_type": "code",
   "execution_count": 17,
   "id": "1a0e2369-d50c-4f3a-b8d7-302b60842614",
   "metadata": {},
   "outputs": [],
   "source": [
    "from pprint import pprint\n",
    "\n",
    "\n",
    "def read_input(s):\n",
    "    with open(f\"./input/{s}\") as f:\n",
    "        data = f.read().splitlines()\n",
    "        return data"
   ]
  },
  {
   "cell_type": "markdown",
   "id": "f276adaa-32cd-4575-a97b-62ae5aca3a1a",
   "metadata": {},
   "source": [
    "# Day 2"
   ]
  },
  {
   "cell_type": "code",
   "execution_count": 134,
   "id": "a2045513-85e7-49d7-a7f4-cfca32152cd7",
   "metadata": {},
   "outputs": [
    {
     "name": "stdout",
     "output_type": "stream",
     "text": [
      "['B Z', 'A X', 'B Z', 'B Z', 'C Z']\n"
     ]
    }
   ],
   "source": [
    "d = read_input(\"02_input.txt\")\n",
    "print(d[:5])"
   ]
  },
  {
   "cell_type": "code",
   "execution_count": 135,
   "id": "062df066-fc44-47fe-a31a-02fbc037bf10",
   "metadata": {},
   "outputs": [
    {
     "name": "stdout",
     "output_type": "stream",
     "text": [
      "11449\n"
     ]
    }
   ],
   "source": [
    "def shape_score(s: str) -> int:\n",
    "    return {\n",
    "        \"A\": 1,\n",
    "        \"B\": 2,\n",
    "        \"C\": 3,\n",
    "    }[s]\n",
    "\n",
    "\n",
    "def outcome_score(s1: str, s2: str) -> int:\n",
    "    if s1 == s2:\n",
    "        return 3  # draw\n",
    "    if (s1, s2) in ((\"A\", \"B\"), (\"B\", \"C\"), (\"C\", \"A\")):\n",
    "        return 6  # 2nd player wins\n",
    "    return 0  # 1st player wins\n",
    "\n",
    "\n",
    "def round_score(s):\n",
    "    s1 = s[0]\n",
    "    s2 = s[2]\n",
    "    s2 = chr(ord(s2) - 23)\n",
    "    return shape_score(s2) + outcome_score(s1, s2)\n",
    "\n",
    "\n",
    "print(sum(round_score(_) for _ in d))"
   ]
  },
  {
   "cell_type": "markdown",
   "id": "256b89fa-7d05-4d52-8e80-20a6882d96fe",
   "metadata": {},
   "source": [
    "## Day 2 - Part 2"
   ]
  },
  {
   "cell_type": "code",
   "execution_count": 136,
   "id": "556fd8f6-6229-40ee-b12e-5e0b1cc7e034",
   "metadata": {},
   "outputs": [
    {
     "data": {
      "text/plain": [
       "13187"
      ]
     },
     "execution_count": 136,
     "metadata": {},
     "output_type": "execute_result"
    }
   ],
   "source": [
    "def strategy(s1: str, s2: str) -> str:\n",
    "    if s2 == \"X\":  # loose\n",
    "        return {\n",
    "            \"B\": \"A\",\n",
    "            \"C\": \"B\",\n",
    "            \"A\": \"C\",\n",
    "        }[s1]\n",
    "    if s2 == \"Y\":  # draw\n",
    "        return s1\n",
    "    return {\n",
    "        \"A\": \"B\",\n",
    "        \"B\": \"C\",\n",
    "        \"C\": \"A\",\n",
    "    }[s1]\n",
    "\n",
    "\n",
    "def new_round_score(s: str) -> int:\n",
    "    s1 = s[0]\n",
    "    s2 = s[2]\n",
    "    mine = strategy(s1, s2)\n",
    "    return shape_score(mine) + outcome_score(s1, mine)\n",
    "\n",
    "\n",
    "# test_data = [\"A Y\", \"B X\", \"C Z\",]\n",
    "# r = test_data[1]\n",
    "# print(r)\n",
    "# print(mine := strategy(r[0], r[2]))\n",
    "# print(shape_score(mine))\n",
    "# print(outcome_score(r[0], mine))\n",
    "# new_round_score(r)\n",
    "\n",
    "sum(new_round_score(_) for _ in d)"
   ]
  },
  {
   "cell_type": "markdown",
   "id": "9fa2e7f2-1c4e-4bd7-9427-5cbc06542d78",
   "metadata": {},
   "source": [
    "# Day 3\n",
    "\n",
    "One Elf has the important job of loading all of the rucksacks with supplies for the jungle journey. Unfortunately, that Elf didn't quite follow the packing instructions, and so a few items now need to be rearranged.\n",
    "\n",
    "Each rucksack has two large compartments. All items of a given type are meant to go into exactly one of the two compartments. The Elf that did the packing failed to follow this rule for exactly one item type per rucksack.\n",
    "\n",
    "The Elves have made a list of all of the items currently in each rucksack (your puzzle input), but they need your help finding the errors. Every item type is identified by a single lowercase or uppercase letter (that is, a and A refer to different types of items).\n",
    "\n",
    "The list of items for each rucksack is given as characters all on a single line. A given rucksack always has the same number of items in each of its two compartments, so the first half of the characters represent items in the first compartment, while the second half of the characters represent items in the second compartment.\n",
    "\n",
    "For example, suppose you have the following list of contents from six rucksacks:\n",
    "\n",
    "vJrwpWtwJgWrhcsFMMfFFhFp  \n",
    "jqHRNqRjqzjGDLGLrsFMfFZSrLrFZsSL  \n",
    "PmmdzqPrVvPwwTWBwg  \n",
    "wMqvLMZHhHMvwLHjbvcjnnSBnvTQFn  \n",
    "ttgJtRGJQctTZtZT  \n",
    "CrZsJsPPZsGzwwsLwLmpwMDw  \n",
    "\n",
    "The first rucksack contains the items vJrwpWtwJgWrhcsFMMfFFhFp, which means its first compartment contains the items vJrwpWtwJgWr, while the second compartment contains the items hcsFMMfFFhFp. The only item type that appears in both compartments is lowercase p.\n",
    "    \n",
    "The second rucksack's compartments contain jqHRNqRjqzjGDLGL and rsFMfFZSrLrFZsSL. The only item type that appears in both compartments is uppercase L.\n",
    "    \n",
    "The third rucksack's compartments contain PmmdzqPrV and vPwwTWBwg; the only common item type is uppercase P.\n",
    "\n",
    "The fourth rucksack's compartments only share item type v.\n",
    "\n",
    "The fifth rucksack's compartments only share item type t.\n",
    "\n",
    "The sixth rucksack's compartments only share item type s.\n",
    "\n",
    "To help prioritize item rearrangement, every item type can be converted to a priority:\n",
    "\n",
    "Lowercase item types a through z have priorities 1 through 26.\n",
    "\n",
    "Uppercase item types A through Z have priorities 27 through 52.\n",
    "\n",
    "In the above example, the priority of the item type that appears in both compartments of each rucksack is 16 (p), 38 (L), 42 (P), 22 (v), 20 (t), and 19 (s); the sum of these is 157.\n",
    "\n",
    "Find the item type that appears in both compartments of each rucksack. What is the sum of the priorities of those item types?"
   ]
  },
  {
   "cell_type": "code",
   "execution_count": 137,
   "id": "4764093c-2192-4260-a339-3cb6d317cc9f",
   "metadata": {},
   "outputs": [
    {
     "name": "stdout",
     "output_type": "stream",
     "text": [
      "26\n"
     ]
    },
    {
     "data": {
      "text/plain": [
       "52"
      ]
     },
     "execution_count": 137,
     "metadata": {},
     "output_type": "execute_result"
    }
   ],
   "source": [
    "print(ord(\"z\") - ord(\"a\") + 1)\n",
    "ord(\"Z\") - ord(\"A\") + 27"
   ]
  },
  {
   "cell_type": "code",
   "execution_count": 138,
   "id": "52274aa3-fdce-4bc6-bcf1-14fc709f69b8",
   "metadata": {},
   "outputs": [
    {
     "data": {
      "text/plain": [
       "'preparations done'"
      ]
     },
     "execution_count": 138,
     "metadata": {},
     "output_type": "execute_result"
    }
   ],
   "source": [
    "test_data = [\n",
    "    \"vJrwpWtwJgWrhcsFMMfFFhFp\",\n",
    "    \"jqHRNqRjqzjGDLGLrsFMfFZSrLrFZsSL\",\n",
    "    \"PmmdzqPrVvPwwTWBwg\",\n",
    "    \"wMqvLMZHhHMvwLHjbvcjnnSBnvTQFn\",\n",
    "    \"ttgJtRGJQctTZtZT\",\n",
    "    \"CrZsJsPPZsGzwwsLwLmpwMDw\",\n",
    "]\n",
    "test_result = [\"p\", \"L\", \"P\", \"v\", \"t\", \"s\"]\n",
    "test_score = 157\n",
    "\n",
    "\n",
    "def common_item(s):\n",
    "    pivot = int(len(s) / 2)\n",
    "    assert pivot == len(s[pivot:])\n",
    "    return set(s[:pivot]).intersection(s[pivot:]).pop()\n",
    "\n",
    "\n",
    "assert [common_item(r) for r in test_data] == test_result\n",
    "\n",
    "\n",
    "def priority(c):\n",
    "    if \"a\" <= c <= \"z\":\n",
    "        return ord(c) - ord(\"a\") + 1\n",
    "    return ord(c) - ord(\"A\") + 27\n",
    "\n",
    "\n",
    "assert sum(priority(_) for _ in test_result) == test_score\n",
    "\"preparations done\""
   ]
  },
  {
   "cell_type": "code",
   "execution_count": 139,
   "id": "339c94df-d7db-4053-af91-9f28921aff47",
   "metadata": {},
   "outputs": [
    {
     "name": "stdout",
     "output_type": "stream",
     "text": [
      "7428\n"
     ]
    }
   ],
   "source": [
    "data = read_input(\"03_input.txt\")\n",
    "print(sum(priority(common_item(_)) for _ in data))"
   ]
  },
  {
   "cell_type": "markdown",
   "id": "cd962690-632a-4b2a-918a-01b85927522a",
   "metadata": {},
   "source": [
    "## Day 3 - Part 2\n",
    "\n",
    "As you finish identifying the misplaced items, the Elves come to you with another issue.\n",
    "\n",
    "For safety, the Elves are divided into groups of three. Every Elf carries a badge that identifies their group. For efficiency, within each group of three Elves, the badge is the only item type carried by all three Elves. That is, if a group's badge is item type B, then all three Elves will have item type B somewhere in their rucksack, and at most two of the Elves will be carrying any other item type.\n",
    "\n",
    "The problem is that someone forgot to put this year's updated authenticity sticker on the badges. All of the badges need to be pulled out of the rucksacks so the new authenticity stickers can be attached.\n",
    "\n",
    "Additionally, nobody wrote down which item type corresponds to each group's badges. The only way to tell which item type is the right one is by finding the one item type that is common between all three Elves in each group.\n",
    "\n",
    "Every set of three lines in your list corresponds to a single group, but each group can have a different badge item type. So, in the above example, the first group's rucksacks are the first three lines:\n",
    "\n",
    "[\"vJrwpWtwJgWrhcsFMMfFFhFp\",\n",
    "\"jqHRNqRjqzjGDLGLrsFMfFZSrLrFZsSL\", \n",
    "\"PmmdzqPrVvPwwTWBwg\",]\n",
    "\n",
    "And the second group's rucksacks are the next three lines:\n",
    "\n",
    "[\"wMqvLMZHhHMvwLHjbvcjnnSBnvTQFn\",\n",
    "\"ttgJtRGJQctTZtZT\",\n",
    "\"CrZsJsPPZsGzwwsLwLmpwMDw\",]\n",
    "\n",
    "In the first group, the only item type that appears in all three rucksacks is lowercase r; this must be their badges. In the second group, their badge item type must be Z.\n",
    "\n",
    "Priorities for these items must still be found to organize the sticker attachment efforts: here, they are 18 (r) for the first group and 52 (Z) for the second group. The sum of these is 70.\n",
    "\n",
    "Find the item type that corresponds to the badges of each three-Elf group. What is the sum of the priorities of those item types?"
   ]
  },
  {
   "cell_type": "code",
   "execution_count": 140,
   "id": "754b32e4-54c0-479c-ad9d-2ecafb5c4fdf",
   "metadata": {},
   "outputs": [],
   "source": [
    "test = {}\n",
    "test[0] = [\n",
    "    \"vJrwpWtwJgWrhcsFMMfFFhFp\",\n",
    "    \"jqHRNqRjqzjGDLGLrsFMfFZSrLrFZsSL\",\n",
    "    \"PmmdzqPrVvPwwTWBwg\",\n",
    "]\n",
    "test[1] = [\n",
    "    \"wMqvLMZHhHMvwLHjbvcjnnSBnvTQFn\",\n",
    "    \"ttgJtRGJQctTZtZT\",\n",
    "    \"CrZsJsPPZsGzwwsLwLmpwMDw\",\n",
    "]\n",
    "\n",
    "test_badges = [\"r\", \"Z\"]\n",
    "\n",
    "\n",
    "def find_badge(g) -> str:\n",
    "    return set(g[0]).intersection(g[1]).intersection(g[2]).pop()\n",
    "\n",
    "\n",
    "assert [find_badge(_) for _ in test.values()] == test_badges"
   ]
  },
  {
   "cell_type": "code",
   "execution_count": 141,
   "id": "4241316c-8098-4577-b38f-4de5a62ae2d5",
   "metadata": {},
   "outputs": [
    {
     "data": {
      "text/plain": [
       "2650"
      ]
     },
     "execution_count": 141,
     "metadata": {},
     "output_type": "execute_result"
    }
   ],
   "source": [
    "def chunks(lst, n):\n",
    "    \"\"\"Yield successive n-sized chunks from lst.\"\"\"\n",
    "    for i in range(0, len(lst), n):\n",
    "        yield lst[i : i + n]\n",
    "\n",
    "\n",
    "sum(priority(_) for _ in (find_badge(_) for _ in chunks(data, 3)))"
   ]
  },
  {
   "cell_type": "markdown",
   "id": "6ea4e248-6752-47d4-941e-07fc776d8034",
   "metadata": {},
   "source": [
    "# Day 4\n",
    "\n",
    "Space needs to be cleared before the last supplies can be unloaded from the ships, and so several Elves have been assigned the job of cleaning up sections of the camp. Every section has a unique ID number, and each Elf is assigned a range of section IDs.\n",
    "\n",
    "However, as some of the Elves compare their section assignments with each other, they've noticed that many of the assignments overlap. To try to quickly find overlaps and reduce duplicated effort, the Elves pair up and make a big list of the section assignments for each pair (your puzzle input).\n",
    "\n",
    "For example, consider the following list of section assignment pairs:\n",
    "\n",
    "```\n",
    "2-4,6-8\n",
    "2-3,4-5\n",
    "5-7,7-9\n",
    "2-8,3-7\n",
    "6-6,4-6\n",
    "2-6,4-8\n",
    "```\n",
    "\n",
    "For the first few pairs, this list means:\n",
    "\n",
    "Within the first pair of Elves, the first Elf was assigned sections 2-4 (sections 2, 3, and 4), while the second Elf was assigned sections 6-8 (sections 6, 7, 8).\n",
    "\n",
    "The Elves in the second pair were each assigned two sections.\n",
    "\n",
    "The Elves in the third pair were each assigned three sections: one got sections 5, 6, and 7, while the other also got 7, plus 8 and 9.\n",
    "\n",
    "This example list uses single-digit section IDs to make it easier to draw; your actual list might contain larger numbers. Visually, these pairs of section assignments look like this:\n",
    "\n",
    "```\n",
    ".234.....  2-4\n",
    ".....678.  6-8\n",
    "\n",
    ".23......  2-3\n",
    "...45....  4-5\n",
    "\n",
    "....567..  5-7\n",
    "......789  7-9\n",
    "\n",
    ".2345678.  2-8\n",
    "..34567..  3-7\n",
    "\n",
    ".....6...  6-6\n",
    "...456...  4-6\n",
    "\n",
    ".23456...  2-6\n",
    "...45678.  4-8\n",
    "```\n",
    "\n",
    "Some of the pairs have noticed that one of their assignments fully contains the other. For example, 2-8 fully contains 3-7, and 6-6 is fully contained by 4-6. In pairs where one assignment fully contains the other, one Elf in the pair would be exclusively cleaning sections their partner will already be cleaning, so these seem like the most in need of reconsideration. In this example, there are 2 such pairs.\n",
    "\n",
    "In how many assignment pairs does one range fully contain the other?"
   ]
  },
  {
   "cell_type": "code",
   "execution_count": 142,
   "id": "b4c0212b-e890-493d-a32f-31d2b2c40c4d",
   "metadata": {},
   "outputs": [],
   "source": [
    "test_data = \"\"\"2-4,6-8\n",
    "2-3,4-5\n",
    "5-7,7-9\n",
    "2-8,3-7\n",
    "6-6,4-6\n",
    "2-6,4-8\"\"\".split(\n",
    "    \"\\n\"\n",
    ")\n",
    "\n",
    "test_result = 2\n",
    "\n",
    "\n",
    "def includes(a1, a2, b1, b2) -> bool:\n",
    "    if a1 <= b1 and b2 <= a2:\n",
    "        return True\n",
    "    return b1 <= a1 and a2 <= b2\n",
    "\n",
    "\n",
    "def process_row(r, fnc=includes) -> bool:\n",
    "    # print(r)\n",
    "    lhs, rhs = r.split(\",\")\n",
    "    l1, l2 = map(int, lhs.split(\"-\"))\n",
    "    r1, r2 = map(int, rhs.split(\"-\"))\n",
    "    return fnc(l1, l2, r1, r2)\n",
    "\n",
    "\n",
    "assert sum(process_row(r) for r in test_data) == test_result"
   ]
  },
  {
   "cell_type": "code",
   "execution_count": 143,
   "id": "527235b8-21fb-4609-b07d-75b469d7103f",
   "metadata": {},
   "outputs": [
    {
     "data": {
      "text/plain": [
       "547"
      ]
     },
     "execution_count": 143,
     "metadata": {},
     "output_type": "execute_result"
    }
   ],
   "source": [
    "data = read_input(\"04_input.txt\")\n",
    "sum(process_row(r) for r in data)"
   ]
  },
  {
   "cell_type": "markdown",
   "id": "b8e5c31e-489e-4527-b73a-dd02c1ba92a2",
   "metadata": {},
   "source": [
    "## Day 4 - Part 2\n",
    "\n",
    "It seems like there is still quite a bit of duplicate work planned. Instead, the Elves would like to know the number of pairs that overlap at all.\n",
    "\n",
    "In the above example, the first two pairs (2-4,6-8 and 2-3,4-5) don't overlap, while the remaining four pairs (5-7,7-9, 2-8,3-7, 6-6,4-6, and 2-6,4-8) do overlap:\n",
    "\n",
    "5-7,7-9 overlaps in a single section, 7.\n",
    "\n",
    "2-8,3-7 overlaps all of the sections 3 through 7.\n",
    "\n",
    "6-6,4-6 overlaps in a single section, 6.\n",
    "\n",
    "2-6,4-8 overlaps in sections 4, 5, and 6.\n",
    "\n",
    "So, in this example, the number of overlapping assignment pairs is 4.\n",
    "\n",
    "In how many assignment pairs do the ranges overlap?"
   ]
  },
  {
   "cell_type": "code",
   "execution_count": 144,
   "id": "a3974841-5ab5-4d1e-8481-925ec0b5e1f0",
   "metadata": {},
   "outputs": [],
   "source": [
    "test_overlap = 4\n",
    "\n",
    "\n",
    "def overlap(a1, a2, b1, b2) -> bool:\n",
    "    return not (a2 < b1 or b2 < a1)\n",
    "\n",
    "\n",
    "assert sum(process_row(r, fnc=overlap) for r in test_data) == 4"
   ]
  },
  {
   "cell_type": "code",
   "execution_count": 145,
   "id": "d8fa4273-2238-4b1a-a4d7-197675b85b6e",
   "metadata": {},
   "outputs": [
    {
     "data": {
      "text/plain": [
       "843"
      ]
     },
     "execution_count": 145,
     "metadata": {},
     "output_type": "execute_result"
    }
   ],
   "source": [
    "sum(process_row(r, fnc=overlap) for r in data)"
   ]
  },
  {
   "cell_type": "markdown",
   "id": "19e8ad0a-d468-48e4-95aa-e5412a7c490a",
   "metadata": {},
   "source": [
    "# Day 5\n",
    "\n",
    "The expedition can depart as soon as the final supplies have been unloaded from the ships. Supplies are stored in stacks of marked crates, but because the needed supplies are buried under many other crates, the crates need to be rearranged.\n",
    "\n",
    "The ship has a giant cargo crane capable of moving crates between stacks. To ensure none of the crates get crushed or fall over, the crane operator will rearrange them in a series of carefully-planned steps. After the crates are rearranged, the desired crates will be at the top of each stack.\n",
    "\n",
    "The Elves don't want to interrupt the crane operator during this delicate procedure, but they forgot to ask her which crate will end up where, and they want to be ready to unload them as soon as possible so they can embark.\n",
    "\n",
    "They do, however, have a drawing of the starting stacks of crates and the rearrangement procedure (your puzzle input). For example:\n",
    "\n",
    "```\n",
    "    [D]    \n",
    "[N] [C]    \n",
    "[Z] [M] [P]\n",
    " 1   2   3 \n",
    "```\n",
    "\n",
    "```\n",
    "move 1 from 2 to 1\n",
    "move 3 from 1 to 3\n",
    "move 2 from 2 to 1\n",
    "move 1 from 1 to 2\n",
    "```\n",
    "\n",
    "In this example, there are three stacks of crates. Stack 1 contains two crates: crate Z is on the bottom, and crate N is on top. Stack 2 contains three crates; from bottom to top, they are crates M, C, and D. Finally, stack 3 contains a single crate, P.\n",
    "\n",
    "Then, the rearrangement procedure is given. In each step of the procedure, a quantity of crates is moved from one stack to a different stack. In the first step of the above rearrangement procedure, one crate is moved from stack 2 to stack 1, resulting in this configuration:\n",
    "\n",
    "```\n",
    "[D]        \n",
    "[N] [C]    \n",
    "[Z] [M] [P]\n",
    " 1   2   3 \n",
    "```\n",
    "\n",
    "In the second step, three crates are moved from stack 1 to stack 3. Crates are moved one at a time, so the first crate to be moved (D) ends up below the second and third crates:\n",
    "\n",
    "\n",
    "```\n",
    "        [Z]\n",
    "        [N]\n",
    "    [C] [D]\n",
    "    [M] [P]\n",
    " 1   2   3\n",
    "```\n",
    "\n",
    "Then, both crates are moved from stack 2 to stack 1. Again, because crates are moved one at a time, crate C ends up below crate M:\n",
    "\n",
    "```\n",
    "        [Z]\n",
    "        [N]\n",
    "[M]     [D]\n",
    "[C]     [P]\n",
    " 1   2   3\n",
    "```\n",
    "\n",
    "Finally, one crate is moved from stack 1 to stack 2:\n",
    "\n",
    "```\n",
    "        [Z]\n",
    "        [N]\n",
    "        [D]\n",
    "[C] [M] [P]\n",
    " 1   2   3\n",
    "```\n",
    "\n",
    "The Elves just need to know which crate will end up on top of each stack; in this example, the top crates are C in stack 1, M in stack 2, and Z in stack 3, so you should combine these together and give the Elves the message CMZ.\n",
    "\n",
    "After the rearrangement procedure completes, what crate ends up on top of each stack?"
   ]
  },
  {
   "cell_type": "code",
   "execution_count": 156,
   "id": "44549479-7057-4d6c-b0b7-75be59ed388a",
   "metadata": {},
   "outputs": [
    {
     "name": "stdout",
     "output_type": "stream",
     "text": [
      "{1: ['Z', 'N'], 2: ['M', 'C', 'D'], 3: ['P']}\n",
      "{1: ['C'], 2: ['M'], 3: ['P', 'D', 'N', 'Z']}\n"
     ]
    },
    {
     "data": {
      "text/plain": [
       "'success!'"
      ]
     },
     "execution_count": 156,
     "metadata": {},
     "output_type": "execute_result"
    }
   ],
   "source": [
    "test_input = \"\"\"    [D]    \n",
    "[N] [C]    \n",
    "[Z] [M] [P]\n",
    " 1   2   3 \n",
    "\n",
    "move 1 from 2 to 1\n",
    "move 3 from 1 to 3\n",
    "move 2 from 2 to 1\n",
    "move 1 from 1 to 2\n",
    "\"\"\".split(\n",
    "    \"\\n\"\n",
    ")\n",
    "\n",
    "# print(test_input)\n",
    "\n",
    "\n",
    "def split_stacks_moves(input):\n",
    "    stacks = []\n",
    "    for i, row in enumerate(input):\n",
    "        # print(i, \"X\", row, \"X\")\n",
    "        if row == \"\":\n",
    "            break\n",
    "        stacks.append(row)\n",
    "    return stacks, [_ for _ in input[i:] if _ != \"\"]\n",
    "\n",
    "\n",
    "stacks_input, moves_input = split_stacks_moves(test_input)\n",
    "assert len(stacks_input) == 4\n",
    "assert len(moves_input) == 4\n",
    "\n",
    "from collections import defaultdict\n",
    "\n",
    "\n",
    "def parse_stacks(stacks_input):\n",
    "    stacks = defaultdict(list)\n",
    "    cols = max(map(int, colrow := stacks_input.pop().split()))\n",
    "    # print(f\"found {cols} stacks ({colrow})\")\n",
    "    while stacks_input:\n",
    "        row = stacks_input.pop()\n",
    "        # print(row)\n",
    "        for i in range(maxi := min(cols, int((len(row) - 1) / 4)) + 1):\n",
    "            # print(maxi,cols)\n",
    "            letter = row[1 + i * 4]\n",
    "            if letter != \" \":\n",
    "                # print(i+1, letter)\n",
    "                stacks[i + 1] += letter\n",
    "        # pprint(dict(stacks))\n",
    "    return stacks\n",
    "\n",
    "\n",
    "parsed_stacks = parse_stacks(stacks_input)\n",
    "assert parsed_stacks == {1: [*\"ZN\"], 2: [*\"MCD\"], 3: [\"P\"]}\n",
    "\n",
    "\n",
    "def parse_moves(moves):\n",
    "    result = []\n",
    "    for row in moves:\n",
    "        _, qty, _, fr, _, to = row.split()\n",
    "        result.append(Move(int(fr), int(to), int(qty)))\n",
    "    return result\n",
    "\n",
    "\n",
    "from dataclasses import dataclass\n",
    "\n",
    "\n",
    "@dataclass\n",
    "class Move:\n",
    "    fr: int\n",
    "    to: int\n",
    "    qty: int\n",
    "\n",
    "\n",
    "# pprint(moves_input)\n",
    "parsed_moves = parse_moves(moves_input)\n",
    "assert parsed_moves == [\n",
    "    Move(2, 1, 1),\n",
    "    Move(1, 3, 3),\n",
    "    Move(2, 1, 2),\n",
    "    Move(1, 2, 1),\n",
    "]\n",
    "\n",
    "\n",
    "def apply_moves(stacks_in, moves):\n",
    "    stacks = stacks_in.copy()\n",
    "    for step, m in enumerate(moves):\n",
    "        # print(\"---\", m)\n",
    "        for _ in range(m.qty):\n",
    "            try:\n",
    "                stacks[m.to].append(stacks[m.fr].pop())\n",
    "            except:\n",
    "                pprint(stacks)\n",
    "                pprint(m)\n",
    "                print(f\"Problem in step {step}\")\n",
    "                raise ValueError(\"can't work with this data\")\n",
    "        # pprint(dict(stacks))\n",
    "    return stacks\n",
    "\n",
    "\n",
    "pprint(dict(parsed_stacks))\n",
    "moved_stacks = apply_moves(parsed_stacks, parsed_moves)\n",
    "pprint(dict(moved_stacks))\n",
    "assert dict(moved_stacks) == {\n",
    "    1: [\"C\"],\n",
    "    2: [\"M\"],\n",
    "    3: [*\"PDNZ\"],\n",
    "}\n",
    "\n",
    "\n",
    "def combined_tops(stacks):\n",
    "    return \"\".join(_[-1] for _ in stacks.values())\n",
    "\n",
    "\n",
    "assert combined_tops(moved_stacks) == \"CMZ\"\n",
    "\n",
    "\n",
    "def day5(input_data, apply_moves=apply_moves):\n",
    "    stacks_input, moves_input = split_stacks_moves(input_data)\n",
    "    # print(f\"Input slitted. {len(stacks_input)} lines of stack data, {len(moves_input)} lines of move data\")\n",
    "    # print(\"====\")\n",
    "    # pprint(stacks_input)\n",
    "    parsed_stacks = parse_stacks(stacks_input)\n",
    "    # print(\"=================\")\n",
    "    # pprint(dict(parsed_stacks))\n",
    "    # print(f\"Stack data parsed. There are {max(parsed_stacks.keys())} stacks.\")\n",
    "    parsed_moves = parse_moves(moves_input)\n",
    "    moved_stacks = apply_moves(parsed_stacks, parsed_moves)\n",
    "    return combined_tops(moved_stacks)\n",
    "\n",
    "\n",
    "assert day5(test_input) == \"CMZ\"\n",
    "\"success!\""
   ]
  },
  {
   "cell_type": "code",
   "execution_count": 157,
   "id": "9dab41ba-6084-4228-837a-5a08d55ab082",
   "metadata": {},
   "outputs": [
    {
     "name": "stdout",
     "output_type": "stream",
     "text": [
      "['        [M]     [B]             [N]', '[T]     [H]     [V] [Q]         [H]', '[Q]     [N]     [H] [W] [T]     [Q]']\n"
     ]
    },
    {
     "data": {
      "text/plain": [
       "'FRDSQRRCD'"
      ]
     },
     "execution_count": 157,
     "metadata": {},
     "output_type": "execute_result"
    }
   ],
   "source": [
    "data = read_input(\"05_input.txt\")\n",
    "print(data[:3])\n",
    "day5(data)  # 'FRDSQRRCD'"
   ]
  },
  {
   "cell_type": "markdown",
   "id": "a56b15e8",
   "metadata": {},
   "source": [
    "## Day 5 - Part 2\n",
    "\n",
    "As you watch the crane operator expertly rearrange the crates, you notice the process isn't following your prediction.\n",
    "\n",
    "Some mud was covering the writing on the side of the crane, and you quickly wipe it away. The crane isn't a CrateMover 9000 - it's a CrateMover 9001.\n",
    "\n",
    "The CrateMover 9001 is notable for many new and exciting features: air conditioning, leather seats, an extra cup holder, and the ability to pick up and move multiple crates at once.\n",
    "\n",
    "Again considering the example above, the crates begin in the same configuration:\n",
    "```\n",
    "    [D]    \n",
    "[N] [C]    \n",
    "[Z] [M] [P]\n",
    " 1   2   3 \n",
    "```\n",
    "\n",
    "Moving a single crate from stack 2 to stack 1 behaves the same as before:\n",
    "\n",
    "```\n",
    "[D]        \n",
    "[N] [C]    \n",
    "[Z] [M] [P]\n",
    " 1   2   3 \n",
    "```\n",
    "\n",
    "However, the action of moving three crates from stack 1 to stack 3 means that those three moved crates stay in the same order, resulting in this new configuration:\n",
    "\n",
    "```\n",
    "        [D]\n",
    "        [N]\n",
    "    [C] [Z]\n",
    "    [M] [P]\n",
    " 1   2   3\n",
    "```\n",
    "\n",
    "Next, as both crates are moved from stack 2 to stack 1, they retain their order as well:\n",
    "\n",
    "```\n",
    "        [D]\n",
    "        [N]\n",
    "[C]     [Z]\n",
    "[M]     [P]\n",
    " 1   2   3\n",
    "```\n",
    "\n",
    "Finally, a single crate is still moved from stack 1 to stack 2, but now it's crate C that gets moved:\n",
    "\n",
    "```\n",
    "        [D]\n",
    "        [N]\n",
    "        [Z]\n",
    "[M] [C] [P]\n",
    " 1   2   3\n",
    "```\n",
    "\n",
    "In this example, the CrateMover 9001 has put the crates in a totally different order: MCD.\n",
    "\n",
    "Before the rearrangement process finishes, update your simulation so that the Elves know where they should stand to be ready to unload the final supplies. After the rearrangement procedure completes, what crate ends up on top of each stack?"
   ]
  },
  {
   "cell_type": "code",
   "execution_count": 172,
   "id": "f2481884-2b1e-4c42-ab14-50d845ec2b67",
   "metadata": {},
   "outputs": [
    {
     "name": "stdout",
     "output_type": "stream",
     "text": [
      "{7: ['W', 'F', 'R', 'L', 'C', 'T', 'S', 'V'],\n",
      " 8: ['T', 'Z', 'N'],\n",
      " 9: ['M', 'S', 'D', 'J', 'R', 'Q', 'H', 'N']}\n",
      "{7: ['W', 'F', 'R', 'L', 'C', 'T', 'S', 'V'],\n",
      " 8: ['T', 'Z', 'N', 'D', 'J', 'R', 'Q', 'H', 'N'],\n",
      " 9: ['M', 'S', 'D', 'J', 'R', 'Q', 'H', 'N']}\n",
      "{7: ['W', 'F', 'R', 'L', 'C', 'T', 'S', 'V'],\n",
      " 8: ['T', 'Z', 'N', 'D', 'J', 'R', 'Q', 'H', 'N'],\n",
      " 9: ['M', 'S']}\n"
     ]
    }
   ],
   "source": [
    "stacks = {}\n",
    "stacks[7] = [\"W\", \"F\", \"R\", \"L\", \"C\", \"T\", \"S\", \"V\"]\n",
    "stacks[8] = [\"T\", \"Z\", \"N\"]\n",
    "stacks[9] = [\"M\", \"S\", \"D\", \"J\", \"R\", \"Q\", \"H\", \"N\"]\n",
    "m = Move(fr=9, to=8, qty=6)\n",
    "pprint(stacks)\n",
    "stacks[m.to] += stacks[m.fr][-m.qty :]\n",
    "pprint(stacks)\n",
    "stacks[m.fr] = stacks[m.fr][: -m.qty]\n",
    "pprint(stacks)"
   ]
  },
  {
   "cell_type": "code",
   "execution_count": 177,
   "id": "f55b8349-e2d8-46e6-b394-c982dbd965f9",
   "metadata": {},
   "outputs": [],
   "source": [
    "def moves_9001(stacks_in, moves):\n",
    "    stacks = stacks_in.copy()\n",
    "    for step, m in enumerate(moves):\n",
    "        # print(\"---\", m)\n",
    "        try:\n",
    "            stacks[m.to] += stacks[m.fr][-m.qty :]\n",
    "            stacks[m.fr] = stacks[m.fr][: -m.qty]\n",
    "        except:\n",
    "            pprint(stacks)\n",
    "            pprint(m)\n",
    "            print(f\"Problem in step {step}\")\n",
    "            raise ValueError(\"can't work with this data\")\n",
    "        # pprint(dict(stacks))\n",
    "    return stacks\n",
    "\n",
    "\n",
    "assert day5(test_input, apply_moves=moves_9001) == \"MCD\""
   ]
  },
  {
   "cell_type": "code",
   "execution_count": 178,
   "id": "2a181535-21a7-4044-a49c-6e8963d7b7c0",
   "metadata": {},
   "outputs": [
    {
     "data": {
      "text/plain": [
       "'HRFTQVWNN'"
      ]
     },
     "execution_count": 178,
     "metadata": {},
     "output_type": "execute_result"
    }
   ],
   "source": [
    "day5(data, apply_moves=moves_9001)"
   ]
  },
  {
   "cell_type": "markdown",
   "id": "6a6d4957-4be4-408d-bc9d-2f86f6bd782f",
   "metadata": {},
   "source": [
    "# Day 6 -- Tuning Trouble --\n",
    "\n",
    "The preparations are finally complete; you and the Elves leave camp on foot and begin to make your way toward the star fruit grove.\n",
    "\n",
    "As you move through the dense undergrowth, one of the Elves gives you a handheld device. He says that it has many fancy features, but the most important one to set up right now is the communication system.\n",
    "\n",
    "However, because he's heard you have significant experience dealing with signal-based systems, he convinced the other Elves that it would be okay to give you their one malfunctioning device - surely you'll have no problem fixing it.\n",
    "\n",
    "As if inspired by comedic timing, the device emits a few colorful sparks.\n",
    "\n",
    "To be able to communicate with the Elves, the device needs to lock on to their signal. The signal is a series of seemingly-random characters that the device receives one at a time.\n",
    "\n",
    "To fix the communication system, you need to add a subroutine to the device that detects a start-of-packet marker in the datastream. In the protocol being used by the Elves, the start of a packet is indicated by a sequence of four characters that are all different.\n",
    "\n",
    "The device will send your subroutine a datastream buffer (your puzzle input); your subroutine needs to identify the first position where the four most recently received characters were all different. Specifically, it needs to report the number of characters from the beginning of the buffer to the end of the first such four-character marker.\n",
    "\n",
    "For example, suppose you receive the following datastream buffer:\n",
    "\n",
    "`mjqjpqmgbljsphdztnvjfqwrcgsmlb`\n",
    "\n",
    "After the first three characters (mjq) have been received, there haven't been enough characters received yet to find the marker. The first time a marker could occur is after the fourth character is received, making the most recent four characters mjqj. Because j is repeated, this isn't a marker.\n",
    "\n",
    "The first time a marker appears is after the seventh character arrives. Once it does, the last four characters received are jpqm, which are all different. In this case, your subroutine should report the value 7, because the first start-of-packet marker is complete after 7 characters have been processed.\n",
    "\n",
    "Here are a few more examples:\n",
    "\n",
    "```\n",
    "    bvwbjplbgvbhsrlpgdmjqwftvncz: first marker after character 5\n",
    "    nppdvjthqldpwncqszvftbrmjlhg: first marker after character 6\n",
    "    nznrnfrfntjfmvfwmzdfjlvtqnbhcprsg: first marker after character 10\n",
    "    zcfzfwzzqfrljwzlrfnpqdbhtmscgvjw: first marker after character 11\n",
    "```\n",
    "\n",
    "\n",
    "How many characters need to be processed before the first start-of-packet marker is detected?"
   ]
  },
  {
   "cell_type": "code",
   "execution_count": 24,
   "id": "4cd3e50e-9099-46d9-ac35-c194183c8792",
   "metadata": {},
   "outputs": [
    {
     "data": {
      "text/plain": [
       "'success'"
      ]
     },
     "execution_count": 24,
     "metadata": {},
     "output_type": "execute_result"
    }
   ],
   "source": [
    "examples = [\n",
    "    (\"bvwbjplbgvbhsrlpgdmjqwftvncz\", \"5\"),\n",
    "    (\"nppdvjthqldpwncqszvftbrmjlhg\", \"6\"),\n",
    "    (\"nznrnfrfntjfmvfwmzdfjlvtqnbhcprsg\", \"10\"),\n",
    "    (\"zcfzfwzzqfrljwzlrfnpqdbhtmscgvjw\", \"11\"),\n",
    "]\n",
    "\n",
    "s, c = examples[0]\n",
    "\n",
    "\n",
    "def find_marker(s, n=4):\n",
    "    for i in range(n, len(s)):\n",
    "        # print(t:=s[i-n:i], len(t), len(set(t)))\n",
    "        if len(set(s[i - n : i])) == n:\n",
    "            return i\n",
    "    raise ValueError(f\"no {n} distinct chars in {s}\")\n",
    "\n",
    "\n",
    "for s, c in examples:\n",
    "    # print(find_marker(s), c, find_marker(s) == c)\n",
    "    assert find_marker(s) == int(c)\n",
    "\n",
    "\"success\""
   ]
  },
  {
   "cell_type": "code",
   "execution_count": 25,
   "id": "22773859",
   "metadata": {},
   "outputs": [
    {
     "data": {
      "text/plain": [
       "1343"
      ]
     },
     "execution_count": 25,
     "metadata": {},
     "output_type": "execute_result"
    }
   ],
   "source": [
    "data = read_input(\"06_input.txt\")\n",
    "# print(data)\n",
    "find_marker(data[0])"
   ]
  },
  {
   "cell_type": "markdown",
   "id": "79335f82",
   "metadata": {},
   "source": [
    "## Day 6 - Part 2\n",
    "\n",
    "Your device's communication system is correctly detecting packets, but still isn't working. It looks like it also needs to look for messages.\n",
    "\n",
    "A start-of-message marker is just like a start-of-packet marker, except it consists of 14 distinct characters rather than 4.\n",
    "\n",
    "Here are the first positions of start-of-message markers for all of the above examples:\n",
    "\n",
    "```\n",
    "    mjqjpqmgbljsphdztnvjfqwrcgsmlb: first marker after character 19\n",
    "    bvwbjplbgvbhsrlpgdmjqwftvncz: first marker after character 23\n",
    "    nppdvjthqldpwncqszvftbrmjlhg: first marker after character 23\n",
    "    nznrnfrfntjfmvfwmzdfjlvtqnbhcprsg: first marker after character 29\n",
    "    zcfzfwzzqfrljwzlrfnpqdbhtmscgvjw: first marker after character 26\n",
    "```\n",
    "\n",
    "How many characters need to be processed before the first start-of-message marker is detected?"
   ]
  },
  {
   "cell_type": "code",
   "execution_count": 37,
   "id": "ebc225b6-3217-4f65-9074-c68b6cf8752c",
   "metadata": {},
   "outputs": [
    {
     "name": "stdout",
     "output_type": "stream",
     "text": [
      "[('mjqjpqmgbljsphdztnvjfqwrcgsmlb', 19),\n",
      " ('bvwbjplbgvbhsrlpgdmjqwftvncz', 23),\n",
      " ('nppdvjthqldpwncqszvftbrmjlhg', 23),\n",
      " ('nznrnfrfntjfmvfwmzdfjlvtqnbhcprsg', 29),\n",
      " ('zcfzfwzzqfrljwzlrfnpqdbhtmscgvjw', 26)]\n"
     ]
    }
   ],
   "source": [
    "test_input = [\n",
    "    _.strip()\n",
    "    for _ in \"\"\"mjqjpqmgbljsphdztnvjfqwrcgsmlb: first marker after character 19\n",
    "    bvwbjplbgvbhsrlpgdmjqwftvncz: first marker after character 23\n",
    "    nppdvjthqldpwncqszvftbrmjlhg: first marker after character 23\n",
    "    nznrnfrfntjfmvfwmzdfjlvtqnbhcprsg: first marker after character 29\n",
    "    zcfzfwzzqfrljwzlrfnpqdbhtmscgvjw: first marker after character 26\"\"\".splitlines()\n",
    "]\n",
    "\n",
    "examples = [(_.split(\":\")[0], int(_.split()[-1])) for _ in test_input]\n",
    "\n",
    "# print(test_input)\n",
    "pprint(examples)\n",
    "\n",
    "for (s, c) in examples:\n",
    "    assert find_marker(s, n=14) == c"
   ]
  },
  {
   "cell_type": "code",
   "execution_count": 26,
   "id": "189f5e46-547a-47aa-ac15-e5eb334597e0",
   "metadata": {
    "tags": []
   },
   "outputs": [
    {
     "data": {
      "text/plain": [
       "2193"
      ]
     },
     "execution_count": 26,
     "metadata": {},
     "output_type": "execute_result"
    }
   ],
   "source": [
    "find_marker(data[0], 14)"
   ]
  },
  {
   "cell_type": "markdown",
   "id": "799b3f1d-99c0-4d81-b5bd-7c62b4cd7c6f",
   "metadata": {},
   "source": [
    "# Day 7"
   ]
  },
  {
   "cell_type": "code",
   "execution_count": null,
   "id": "63bc3199-7371-429f-bd5c-429b3956b616",
   "metadata": {},
   "outputs": [],
   "source": []
  },
  {
   "cell_type": "code",
   "execution_count": null,
   "id": "7a1397d0-908d-4bae-a8ff-470c9f49f266",
   "metadata": {},
   "outputs": [],
   "source": [
    "data = read_input(\"07_input.txt\")"
   ]
  },
  {
   "cell_type": "markdown",
   "id": "4ca90aeb-ebd3-4bf0-a1b7-96232ee59a60",
   "metadata": {},
   "source": [
    "## Day 7 - Part 2\n"
   ]
  },
  {
   "cell_type": "markdown",
   "id": "0fee837d-75e1-4f92-9515-173135e9197c",
   "metadata": {},
   "source": [
    "# Day 8"
   ]
  },
  {
   "cell_type": "code",
   "execution_count": 4,
   "id": "bd639143-db07-44e0-8f3c-7916996081a3",
   "metadata": {},
   "outputs": [
    {
     "data": {
      "text/plain": [
       "2"
      ]
     },
     "execution_count": 4,
     "metadata": {},
     "output_type": "execute_result"
    }
   ],
   "source": [
    "1+1"
   ]
  },
  {
   "cell_type": "code",
   "execution_count": null,
   "id": "0592f65a-bd63-40e4-9633-8a8156fc230a",
   "metadata": {},
   "outputs": [],
   "source": [
    "data = read_input(\"08_input.txt\")"
   ]
  },
  {
   "cell_type": "markdown",
   "id": "2cbf58a5-b6eb-41e5-be16-1ad175728bfb",
   "metadata": {},
   "source": [
    "## Day 8 - Part 2"
   ]
  },
  {
   "cell_type": "code",
   "execution_count": 3,
   "id": "f029233b-dfc4-46a2-a318-86517e1c39a5",
   "metadata": {},
   "outputs": [
    {
     "name": "stdout",
     "output_type": "stream",
     "text": [
      "3.11.0 (main, Oct 25 2022, 14:13:24) [Clang 14.0.0 (clang-1400.0.29.202)] /Users/jhereth/quda_repos/github.com/jhereth/aoc22/.venv/bin/python\n"
     ]
    }
   ],
   "source": [
    "import sys\n",
    "print(sys.version, sys.executable)"
   ]
  },
  {
   "cell_type": "code",
   "execution_count": null,
   "id": "16d58808",
   "metadata": {},
   "outputs": [],
   "source": []
  }
 ],
 "metadata": {
  "jupytext": {
   "formats": "ipynb,qmd"
  },
  "kernelspec": {
   "display_name": "Python 3 (ipykernel)",
   "language": "python",
   "name": "python3"
  },
  "language_info": {
   "codemirror_mode": {
    "name": "ipython",
    "version": 3
   },
   "file_extension": ".py",
   "mimetype": "text/x-python",
   "name": "python",
   "nbconvert_exporter": "python",
   "pygments_lexer": "ipython3",
   "version": "3.11.0"
  },
  "vscode": {
   "interpreter": {
    "hash": "3964eb6dd9b715bf883f48f1c9ef67698f467101d60709a6e25cf2d5e1ef8181"
   }
  }
 },
 "nbformat": 4,
 "nbformat_minor": 5
}
