{
 "cells": [
  {
   "cell_type": "code",
   "execution_count": 1,
   "id": "1a0e2369-d50c-4f3a-b8d7-302b60842614",
   "metadata": {},
   "outputs": [],
   "source": [
    "def read_input(s):\n",
    "    with open(f\"./input/{s}\") as f:\n",
    "        data = f.readlines()\n",
    "        data = [_.strip() for _ in data]\n",
    "        return data"
   ]
  },
  {
   "cell_type": "markdown",
   "id": "f276adaa-32cd-4575-a97b-62ae5aca3a1a",
   "metadata": {},
   "source": [
    "# Day 2"
   ]
  },
  {
   "cell_type": "code",
   "execution_count": 2,
   "id": "a2045513-85e7-49d7-a7f4-cfca32152cd7",
   "metadata": {},
   "outputs": [
    {
     "name": "stdout",
     "output_type": "stream",
     "text": [
      "['B Z', 'A X', 'B Z', 'B Z', 'C Z']\n"
     ]
    }
   ],
   "source": [
    "d = read_input(\"02_input.txt\")\n",
    "print(d[:5])"
   ]
  },
  {
   "cell_type": "code",
   "execution_count": 20,
   "id": "062df066-fc44-47fe-a31a-02fbc037bf10",
   "metadata": {},
   "outputs": [
    {
     "name": "stdout",
     "output_type": "stream",
     "text": [
      "11449\n"
     ]
    }
   ],
   "source": [
    "def shape_score(s: str) -> int:\n",
    "    return {\"A\": 1, \"B\": 2, \"C\": 3,}[s]\n",
    "\n",
    "def outcome_score(s1: str, s2: str) -> int:\n",
    "    if s1 == s2:\n",
    "        return 3 # draw\n",
    "    if (s1, s2) in ((\"A\", \"B\"), (\"B\", \"C\"), (\"C\", \"A\")):\n",
    "        return 6 # 2nd player wins\n",
    "    return 0 # 1st player wins\n",
    "\n",
    "def round_score(s):\n",
    "    s1 = s[0]\n",
    "    s2 = s[2]\n",
    "    s2 = chr(ord(s2) - 23)\n",
    "    return shape_score(s2) + outcome_score(s1, s2)\n",
    "\n",
    "print(sum(round_score(_) for _ in d))"
   ]
  },
  {
   "cell_type": "markdown",
   "id": "256b89fa-7d05-4d52-8e80-20a6882d96fe",
   "metadata": {},
   "source": [
    "## Day 2 - Part 2"
   ]
  },
  {
   "cell_type": "code",
   "execution_count": 31,
   "id": "556fd8f6-6229-40ee-b12e-5e0b1cc7e034",
   "metadata": {},
   "outputs": [
    {
     "data": {
      "text/plain": [
       "13187"
      ]
     },
     "execution_count": 31,
     "metadata": {},
     "output_type": "execute_result"
    }
   ],
   "source": [
    "def strategy(s1: str, s2: str) -> str:\n",
    "    if s2 == \"X\":  # loose\n",
    "        return {\"B\": \"A\", \"C\": \"B\", \"A\": \"C\",}[s1]\n",
    "    if s2 == \"Y\":  # draw\n",
    "        return s1\n",
    "    return {\"A\": \"B\", \"B\": \"C\", \"C\":\"A\",}[s1]\n",
    "\n",
    "def new_round_score(s: str) -> int:\n",
    "    s1 = s[0]\n",
    "    s2 = s[2]\n",
    "    mine = strategy(s1, s2)\n",
    "    return shape_score(mine) + outcome_score(s1, mine)\n",
    "\n",
    "# test_data = [\"A Y\", \"B X\", \"C Z\",]\n",
    "# r = test_data[1]\n",
    "# print(r)\n",
    "# print(mine := strategy(r[0], r[2]))\n",
    "# print(shape_score(mine))\n",
    "# print(outcome_score(r[0], mine))\n",
    "# new_round_score(r)\n",
    "\n",
    "sum(new_round_score(_) for _ in d)"
   ]
  },
  {
   "cell_type": "markdown",
   "id": "9fa2e7f2-1c4e-4bd7-9427-5cbc06542d78",
   "metadata": {},
   "source": [
    "# Day 3\n",
    "\n",
    "One Elf has the important job of loading all of the rucksacks with supplies for the jungle journey. Unfortunately, that Elf didn't quite follow the packing instructions, and so a few items now need to be rearranged.\n",
    "\n",
    "Each rucksack has two large compartments. All items of a given type are meant to go into exactly one of the two compartments. The Elf that did the packing failed to follow this rule for exactly one item type per rucksack.\n",
    "\n",
    "The Elves have made a list of all of the items currently in each rucksack (your puzzle input), but they need your help finding the errors. Every item type is identified by a single lowercase or uppercase letter (that is, a and A refer to different types of items).\n",
    "\n",
    "The list of items for each rucksack is given as characters all on a single line. A given rucksack always has the same number of items in each of its two compartments, so the first half of the characters represent items in the first compartment, while the second half of the characters represent items in the second compartment.\n",
    "\n",
    "For example, suppose you have the following list of contents from six rucksacks:\n",
    "\n",
    "vJrwpWtwJgWrhcsFMMfFFhFp  \n",
    "jqHRNqRjqzjGDLGLrsFMfFZSrLrFZsSL  \n",
    "PmmdzqPrVvPwwTWBwg  \n",
    "wMqvLMZHhHMvwLHjbvcjnnSBnvTQFn  \n",
    "ttgJtRGJQctTZtZT  \n",
    "CrZsJsPPZsGzwwsLwLmpwMDw  \n",
    "\n",
    "The first rucksack contains the items vJrwpWtwJgWrhcsFMMfFFhFp, which means its first compartment contains the items vJrwpWtwJgWr, while the second compartment contains the items hcsFMMfFFhFp. The only item type that appears in both compartments is lowercase p.\n",
    "    \n",
    "The second rucksack's compartments contain jqHRNqRjqzjGDLGL and rsFMfFZSrLrFZsSL. The only item type that appears in both compartments is uppercase L.\n",
    "    \n",
    "The third rucksack's compartments contain PmmdzqPrV and vPwwTWBwg; the only common item type is uppercase P.\n",
    "\n",
    "The fourth rucksack's compartments only share item type v.\n",
    "\n",
    "The fifth rucksack's compartments only share item type t.\n",
    "\n",
    "The sixth rucksack's compartments only share item type s.\n",
    "\n",
    "To help prioritize item rearrangement, every item type can be converted to a priority:\n",
    "\n",
    "Lowercase item types a through z have priorities 1 through 26.\n",
    "\n",
    "Uppercase item types A through Z have priorities 27 through 52.\n",
    "\n",
    "In the above example, the priority of the item type that appears in both compartments of each rucksack is 16 (p), 38 (L), 42 (P), 22 (v), 20 (t), and 19 (s); the sum of these is 157.\n",
    "\n",
    "Find the item type that appears in both compartments of each rucksack. What is the sum of the priorities of those item types?"
   ]
  },
  {
   "cell_type": "code",
   "execution_count": 41,
   "id": "4764093c-2192-4260-a339-3cb6d317cc9f",
   "metadata": {},
   "outputs": [
    {
     "name": "stdout",
     "output_type": "stream",
     "text": [
      "26\n"
     ]
    },
    {
     "data": {
      "text/plain": [
       "52"
      ]
     },
     "execution_count": 41,
     "metadata": {},
     "output_type": "execute_result"
    }
   ],
   "source": [
    "print(ord(\"z\") - ord(\"a\") + 1)\n",
    "ord(\"Z\") - ord(\"A\") + 27"
   ]
  },
  {
   "cell_type": "code",
   "execution_count": 65,
   "id": "52274aa3-fdce-4bc6-bcf1-14fc709f69b8",
   "metadata": {},
   "outputs": [
    {
     "data": {
      "text/plain": [
       "'preparations done'"
      ]
     },
     "execution_count": 65,
     "metadata": {},
     "output_type": "execute_result"
    }
   ],
   "source": [
    "test_data = [\n",
    "\"vJrwpWtwJgWrhcsFMMfFFhFp\",\n",
    "\"jqHRNqRjqzjGDLGLrsFMfFZSrLrFZsSL\",\n",
    "\"PmmdzqPrVvPwwTWBwg\",\n",
    "\"wMqvLMZHhHMvwLHjbvcjnnSBnvTQFn\",\n",
    "\"ttgJtRGJQctTZtZT\",\n",
    "\"CrZsJsPPZsGzwwsLwLmpwMDw\",\n",
    "]\n",
    "test_result = [\"p\", \"L\", \"P\", \"v\", \"t\", \"s\"]\n",
    "test_score = 157\n",
    "\n",
    "def common_item(s):\n",
    "    pivot = int(len(s)/2)\n",
    "    assert pivot == len(s[pivot:])\n",
    "    return set(s[:pivot]).intersection(s[pivot:]).pop()\n",
    "    \n",
    "assert [common_item(r) for r in test_data] == test_result\n",
    "\n",
    "def priority (c):\n",
    "    if \"a\" <= c <= \"z\":\n",
    "        return ord(c) - ord(\"a\") + 1\n",
    "    return ord(c) - ord(\"A\") + 27\n",
    "\n",
    "assert sum(priority(_) for _ in test_result) == test_score\n",
    "\"preparations done\""
   ]
  },
  {
   "cell_type": "code",
   "execution_count": 71,
   "id": "339c94df-d7db-4053-af91-9f28921aff47",
   "metadata": {},
   "outputs": [
    {
     "name": "stdout",
     "output_type": "stream",
     "text": [
      "7428\n"
     ]
    }
   ],
   "source": [
    "data = read_input(\"03_input.txt\")\n",
    "print(sum(priority(common_item(_)) for _ in data))"
   ]
  },
  {
   "cell_type": "markdown",
   "id": "cd962690-632a-4b2a-918a-01b85927522a",
   "metadata": {},
   "source": [
    "## Day 3 - Part 2\n",
    "\n",
    "As you finish identifying the misplaced items, the Elves come to you with another issue.\n",
    "\n",
    "For safety, the Elves are divided into groups of three. Every Elf carries a badge that identifies their group. For efficiency, within each group of three Elves, the badge is the only item type carried by all three Elves. That is, if a group's badge is item type B, then all three Elves will have item type B somewhere in their rucksack, and at most two of the Elves will be carrying any other item type.\n",
    "\n",
    "The problem is that someone forgot to put this year's updated authenticity sticker on the badges. All of the badges need to be pulled out of the rucksacks so the new authenticity stickers can be attached.\n",
    "\n",
    "Additionally, nobody wrote down which item type corresponds to each group's badges. The only way to tell which item type is the right one is by finding the one item type that is common between all three Elves in each group.\n",
    "\n",
    "Every set of three lines in your list corresponds to a single group, but each group can have a different badge item type. So, in the above example, the first group's rucksacks are the first three lines:\n",
    "\n",
    "[\"vJrwpWtwJgWrhcsFMMfFFhFp\",\n",
    "\"jqHRNqRjqzjGDLGLrsFMfFZSrLrFZsSL\", \n",
    "\"PmmdzqPrVvPwwTWBwg\",]\n",
    "\n",
    "And the second group's rucksacks are the next three lines:\n",
    "\n",
    "[\"wMqvLMZHhHMvwLHjbvcjnnSBnvTQFn\",\n",
    "\"ttgJtRGJQctTZtZT\",\n",
    "\"CrZsJsPPZsGzwwsLwLmpwMDw\",]\n",
    "\n",
    "In the first group, the only item type that appears in all three rucksacks is lowercase r; this must be their badges. In the second group, their badge item type must be Z.\n",
    "\n",
    "Priorities for these items must still be found to organize the sticker attachment efforts: here, they are 18 (r) for the first group and 52 (Z) for the second group. The sum of these is 70.\n",
    "\n",
    "Find the item type that corresponds to the badges of each three-Elf group. What is the sum of the priorities of those item types?"
   ]
  },
  {
   "cell_type": "code",
   "execution_count": 85,
   "id": "754b32e4-54c0-479c-ad9d-2ecafb5c4fdf",
   "metadata": {},
   "outputs": [],
   "source": [
    "test={}\n",
    "test[0] = [\"vJrwpWtwJgWrhcsFMMfFFhFp\",\n",
    "\"jqHRNqRjqzjGDLGLrsFMfFZSrLrFZsSL\", \n",
    "\"PmmdzqPrVvPwwTWBwg\",]\n",
    "test[1] = [\"wMqvLMZHhHMvwLHjbvcjnnSBnvTQFn\",\n",
    "\"ttgJtRGJQctTZtZT\",\n",
    "\"CrZsJsPPZsGzwwsLwLmpwMDw\",]\n",
    "\n",
    "test_badges = [\"r\", \"Z\"]\n",
    "\n",
    "def find_badge(g) -> str:\n",
    "    return set(g[0]).intersection(g[1]).intersection(g[2]).pop()\n",
    "\n",
    "assert [find_badge(_) for _ in test.values()] == test_badges"
   ]
  },
  {
   "cell_type": "code",
   "execution_count": 90,
   "id": "4241316c-8098-4577-b38f-4de5a62ae2d5",
   "metadata": {},
   "outputs": [
    {
     "data": {
      "text/plain": [
       "2650"
      ]
     },
     "execution_count": 90,
     "metadata": {},
     "output_type": "execute_result"
    }
   ],
   "source": [
    "def chunks(lst, n):\n",
    "    \"\"\"Yield successive n-sized chunks from lst.\"\"\"\n",
    "    for i in range(0, len(lst), n):\n",
    "        yield lst[i:i + n]\n",
    "        \n",
    "sum(priority(_) for _ in (find_badge(_) for _ in chunks(data, 3)))"
   ]
  },
  {
   "cell_type": "markdown",
   "id": "6ea4e248-6752-47d4-941e-07fc776d8034",
   "metadata": {},
   "source": [
    "# Day 4\n",
    "\n",
    "Space needs to be cleared before the last supplies can be unloaded from the ships, and so several Elves have been assigned the job of cleaning up sections of the camp. Every section has a unique ID number, and each Elf is assigned a range of section IDs.\n",
    "\n",
    "However, as some of the Elves compare their section assignments with each other, they've noticed that many of the assignments overlap. To try to quickly find overlaps and reduce duplicated effort, the Elves pair up and make a big list of the section assignments for each pair (your puzzle input).\n",
    "\n",
    "For example, consider the following list of section assignment pairs:\n",
    "\n",
    "```\n",
    "2-4,6-8\n",
    "2-3,4-5\n",
    "5-7,7-9\n",
    "2-8,3-7\n",
    "6-6,4-6\n",
    "2-6,4-8\n",
    "```\n",
    "\n",
    "For the first few pairs, this list means:\n",
    "\n",
    "Within the first pair of Elves, the first Elf was assigned sections 2-4 (sections 2, 3, and 4), while the second Elf was assigned sections 6-8 (sections 6, 7, 8).\n",
    "\n",
    "The Elves in the second pair were each assigned two sections.\n",
    "\n",
    "The Elves in the third pair were each assigned three sections: one got sections 5, 6, and 7, while the other also got 7, plus 8 and 9.\n",
    "\n",
    "This example list uses single-digit section IDs to make it easier to draw; your actual list might contain larger numbers. Visually, these pairs of section assignments look like this:\n",
    "\n",
    "```\n",
    ".234.....  2-4\n",
    ".....678.  6-8\n",
    "\n",
    ".23......  2-3\n",
    "...45....  4-5\n",
    "\n",
    "....567..  5-7\n",
    "......789  7-9\n",
    "\n",
    ".2345678.  2-8\n",
    "..34567..  3-7\n",
    "\n",
    ".....6...  6-6\n",
    "...456...  4-6\n",
    "\n",
    ".23456...  2-6\n",
    "...45678.  4-8\n",
    "```\n",
    "\n",
    "Some of the pairs have noticed that one of their assignments fully contains the other. For example, 2-8 fully contains 3-7, and 6-6 is fully contained by 4-6. In pairs where one assignment fully contains the other, one Elf in the pair would be exclusively cleaning sections their partner will already be cleaning, so these seem like the most in need of reconsideration. In this example, there are 2 such pairs.\n",
    "\n",
    "In how many assignment pairs does one range fully contain the other?\n"
   ]
  },
  {
   "cell_type": "code",
   "execution_count": 111,
   "id": "b4c0212b-e890-493d-a32f-31d2b2c40c4d",
   "metadata": {},
   "outputs": [],
   "source": [
    "test_data = \"\"\"2-4,6-8\n",
    "2-3,4-5\n",
    "5-7,7-9\n",
    "2-8,3-7\n",
    "6-6,4-6\n",
    "2-6,4-8\"\"\".split(\"\\n\")\n",
    "\n",
    "test_result = 2\n",
    "\n",
    "def includes(a1, a2, b1, b2) -> bool:\n",
    "    if a1 <= b1 and b2 <= a2:\n",
    "        return True\n",
    "    return b1 <= a1 and a2 <= b2\n",
    "\n",
    "def process_row(r, fnc=includes) -> bool:\n",
    "    # print(r)\n",
    "    lhs, rhs = r.split(\",\")\n",
    "    l1, l2 = map(int, lhs.split(\"-\"))\n",
    "    r1, r2 = map(int, rhs.split(\"-\"))\n",
    "    return fnc(l1, l2, r1, r2)\n",
    "    \n",
    "assert sum(process_row(r) for r in test_data) == test_result"
   ]
  },
  {
   "cell_type": "code",
   "execution_count": 109,
   "id": "527235b8-21fb-4609-b07d-75b469d7103f",
   "metadata": {},
   "outputs": [
    {
     "data": {
      "text/plain": [
       "547"
      ]
     },
     "execution_count": 109,
     "metadata": {},
     "output_type": "execute_result"
    }
   ],
   "source": [
    "data = read_input(\"04_input.txt\")\n",
    "sum(process_row(r) for r in data)"
   ]
  },
  {
   "cell_type": "markdown",
   "id": "b8e5c31e-489e-4527-b73a-dd02c1ba92a2",
   "metadata": {},
   "source": [
    "## Day 4 - Part 2\n",
    "\n",
    "It seems like there is still quite a bit of duplicate work planned. Instead, the Elves would like to know the number of pairs that overlap at all.\n",
    "\n",
    "In the above example, the first two pairs (2-4,6-8 and 2-3,4-5) don't overlap, while the remaining four pairs (5-7,7-9, 2-8,3-7, 6-6,4-6, and 2-6,4-8) do overlap:\n",
    "\n",
    "5-7,7-9 overlaps in a single section, 7.\n",
    "\n",
    "2-8,3-7 overlaps all of the sections 3 through 7.\n",
    "\n",
    "6-6,4-6 overlaps in a single section, 6.\n",
    "\n",
    "2-6,4-8 overlaps in sections 4, 5, and 6.\n",
    "\n",
    "So, in this example, the number of overlapping assignment pairs is 4.\n",
    "\n",
    "In how many assignment pairs do the ranges overlap?\n"
   ]
  },
  {
   "cell_type": "code",
   "execution_count": 112,
   "id": "a3974841-5ab5-4d1e-8481-925ec0b5e1f0",
   "metadata": {},
   "outputs": [],
   "source": [
    "test_overlap = 4\n",
    "\n",
    "def overlap(a1, a2, b1, b2) -> bool:\n",
    "    return not(a2 < b1 or b2 < a1)\n",
    "\n",
    "assert sum(process_row(r, fnc=overlap) for r in test_data) == 4"
   ]
  },
  {
   "cell_type": "code",
   "execution_count": 114,
   "id": "d8fa4273-2238-4b1a-a4d7-197675b85b6e",
   "metadata": {},
   "outputs": [
    {
     "data": {
      "text/plain": [
       "843"
      ]
     },
     "execution_count": 114,
     "metadata": {},
     "output_type": "execute_result"
    }
   ],
   "source": [
    "sum(process_row(r, fnc=overlap) for r in data)"
   ]
  },
  {
   "cell_type": "markdown",
   "id": "19e8ad0a-d468-48e4-95aa-e5412a7c490a",
   "metadata": {},
   "source": [
    "# Day 5\n",
    "\n"
   ]
  },
  {
   "cell_type": "code",
   "execution_count": null,
   "id": "9dab41ba-6084-4228-837a-5a08d55ab082",
   "metadata": {},
   "outputs": [],
   "source": [
    "data = read_input(\"xx_input.txt\")"
   ]
  },
  {
   "cell_type": "markdown",
   "id": "a56b15e8",
   "metadata": {},
   "source": [
    "## Day 5 - Part 2\n",
    "\n",
    "\n",
    "# Day 6\n"
   ]
  },
  {
   "cell_type": "code",
   "execution_count": null,
   "id": "22773859",
   "metadata": {},
   "outputs": [],
   "source": [
    "data = read_input(\"xx_input.txt\")"
   ]
  },
  {
   "cell_type": "markdown",
   "id": "79335f82",
   "metadata": {},
   "source": [
    "## Day 6 - Part 2\n"
   ]
  }
 ],
 "metadata": {
  "jupytext": {
   "formats": "ipynb,qmd"
  },
  "kernelspec": {
   "display_name": "Python 3 (ipykernel)",
   "language": "python",
   "name": "python3"
  },
  "language_info": {
   "codemirror_mode": {
    "name": "ipython",
    "version": 3
   },
   "file_extension": ".py",
   "mimetype": "text/x-python",
   "name": "python",
   "nbconvert_exporter": "python",
   "pygments_lexer": "ipython3",
   "version": "3.11.0"
  }
 },
 "nbformat": 4,
 "nbformat_minor": 5
}
